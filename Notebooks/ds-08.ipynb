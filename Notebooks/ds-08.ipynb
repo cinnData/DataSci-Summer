{
  "cells": [
    {
      "cell_type": "markdown",
      "metadata": {
        "id": "view-in-github",
        "colab_type": "text"
      },
      "source": [
        "<a href=\"https://colab.research.google.com/github/cinnData/DataSci-Summer/blob/main/Notebooks/ds-08.ipynb\" target=\"_parent\"><img src=\"https://colab.research.google.com/assets/colab-badge.svg\" alt=\"Open In Colab\"/></a>"
      ]
    },
    {
      "cell_type": "markdown",
      "id": "5dc288da",
      "metadata": {
        "id": "5dc288da"
      },
      "source": [
        "# [DS-08] String data in Pandas"
      ]
    },
    {
      "cell_type": "markdown",
      "id": "58575d70",
      "metadata": {
        "id": "58575d70"
      },
      "source": [
        "### Strings as lists"
      ]
    },
    {
      "cell_type": "code",
      "execution_count": null,
      "id": "85421d2f",
      "metadata": {
        "id": "85421d2f"
      },
      "outputs": [],
      "source": [
        "iese = 'IESE Business School'"
      ]
    },
    {
      "cell_type": "code",
      "execution_count": null,
      "id": "756db5bc",
      "metadata": {
        "id": "756db5bc"
      },
      "outputs": [],
      "source": [
        "len(iese)"
      ]
    },
    {
      "cell_type": "code",
      "execution_count": null,
      "id": "50fe7b63",
      "metadata": {
        "id": "50fe7b63"
      },
      "outputs": [],
      "source": [
        "iese[5:]"
      ]
    },
    {
      "cell_type": "code",
      "execution_count": null,
      "id": "f68ebb7d",
      "metadata": {
        "id": "f68ebb7d"
      },
      "outputs": [],
      "source": [
        "iese[:4] + ', A way to learn'"
      ]
    },
    {
      "cell_type": "code",
      "execution_count": null,
      "id": "074d6e6c",
      "metadata": {
        "id": "074d6e6c"
      },
      "outputs": [],
      "source": [
        "'IE' in iese"
      ]
    },
    {
      "cell_type": "markdown",
      "id": "d2c3aff8",
      "metadata": {
        "id": "d2c3aff8"
      },
      "source": [
        "\n",
        "### Python string methods"
      ]
    },
    {
      "cell_type": "code",
      "execution_count": null,
      "id": "303c4d2c",
      "metadata": {
        "id": "303c4d2c"
      },
      "outputs": [],
      "source": [
        "iese.lower()"
      ]
    },
    {
      "cell_type": "code",
      "execution_count": null,
      "id": "826493ea",
      "metadata": {
        "id": "826493ea"
      },
      "outputs": [],
      "source": [
        "iese.replace('IESE', 'Iese')"
      ]
    },
    {
      "cell_type": "code",
      "execution_count": null,
      "id": "a71e5500",
      "metadata": {
        "id": "a71e5500"
      },
      "outputs": [],
      "source": [
        "iese.split()"
      ]
    },
    {
      "cell_type": "code",
      "execution_count": null,
      "id": "0dc60884",
      "metadata": {
        "id": "0dc60884"
      },
      "outputs": [],
      "source": [
        "iese.split('i')"
      ]
    },
    {
      "cell_type": "code",
      "execution_count": null,
      "id": "29a2d104",
      "metadata": {
        "id": "29a2d104"
      },
      "outputs": [],
      "source": [
        "iese.count('s')"
      ]
    },
    {
      "cell_type": "markdown",
      "id": "1bc508f5",
      "metadata": {
        "id": "1bc508f5"
      },
      "source": [
        "### Pandas string methods"
      ]
    },
    {
      "cell_type": "code",
      "execution_count": null,
      "id": "75817999",
      "metadata": {
        "id": "75817999"
      },
      "outputs": [],
      "source": [
        "import pandas as pd"
      ]
    },
    {
      "cell_type": "code",
      "execution_count": null,
      "id": "91076e48",
      "metadata": {
        "id": "91076e48"
      },
      "outputs": [],
      "source": [
        "pres = pd.Series(['Donald Trump', 'Joe Biden', '', None])\n",
        "pres"
      ]
    },
    {
      "cell_type": "code",
      "execution_count": null,
      "id": "d6d03363",
      "metadata": {
        "id": "d6d03363"
      },
      "outputs": [],
      "source": [
        "pres.str.len()"
      ]
    },
    {
      "cell_type": "code",
      "execution_count": null,
      "id": "e46e6ede",
      "metadata": {
        "id": "e46e6ede"
      },
      "outputs": [],
      "source": [
        "pres.str[0]"
      ]
    },
    {
      "cell_type": "code",
      "execution_count": null,
      "id": "679af8d7",
      "metadata": {
        "id": "679af8d7"
      },
      "outputs": [],
      "source": [
        "pres.str.lower()"
      ]
    },
    {
      "cell_type": "code",
      "execution_count": null,
      "id": "bb5b54b2",
      "metadata": {
        "id": "bb5b54b2"
      },
      "outputs": [],
      "source": [
        "pres.str.replace(' ', '-')"
      ]
    },
    {
      "cell_type": "code",
      "execution_count": null,
      "id": "d98cc46d",
      "metadata": {
        "id": "d98cc46d"
      },
      "outputs": [],
      "source": [
        "pres.str.split()"
      ]
    },
    {
      "cell_type": "code",
      "execution_count": null,
      "id": "d9ebe18b",
      "metadata": {
        "id": "d9ebe18b"
      },
      "outputs": [],
      "source": [
        "pres.str.contains('a')"
      ]
    },
    {
      "cell_type": "code",
      "execution_count": null,
      "id": "c8fcc5f5",
      "metadata": {
        "id": "c8fcc5f5"
      },
      "outputs": [],
      "source": [
        "pres = pres[~(pres.isna())]\n",
        "pres[~pres.str.contains('a')]"
      ]
    },
    {
      "cell_type": "code",
      "execution_count": null,
      "id": "49fd9894",
      "metadata": {
        "id": "49fd9894"
      },
      "outputs": [],
      "source": [
        "pres.str.findall('e')"
      ]
    },
    {
      "cell_type": "markdown",
      "id": "4b98db2d",
      "metadata": {
        "id": "4b98db2d"
      },
      "source": [
        "### Regular expressions"
      ]
    },
    {
      "cell_type": "code",
      "execution_count": null,
      "id": "299a2809",
      "metadata": {
        "id": "299a2809"
      },
      "outputs": [],
      "source": [
        "bio = pd.Series(['I was born in 1954', 'My phone is +34 932 534 200'])\n",
        "bio.str.replace('[a-z]', 'x', regex=True)"
      ]
    },
    {
      "cell_type": "code",
      "execution_count": null,
      "id": "fbb977de",
      "metadata": {
        "id": "fbb977de"
      },
      "outputs": [],
      "source": [
        "bio.str.replace('[0-9]', 'x', regex=True)"
      ]
    },
    {
      "cell_type": "code",
      "execution_count": null,
      "id": "0b4facc4",
      "metadata": {
        "id": "0b4facc4"
      },
      "outputs": [],
      "source": [
        "bio.str.replace('[a-z]+', 'x', regex=True)"
      ]
    },
    {
      "cell_type": "code",
      "execution_count": null,
      "id": "7c3ba1ee",
      "metadata": {
        "id": "7c3ba1ee"
      },
      "outputs": [],
      "source": [
        "bio.str.split('\\W+', regex=True)"
      ]
    },
    {
      "cell_type": "code",
      "execution_count": null,
      "id": "827c9b99",
      "metadata": {
        "id": "827c9b99"
      },
      "outputs": [],
      "source": [
        "people = pd.Series(['John - male', 'Nancy - female', 'Bruno - male'])\n",
        "people.str.replace(' - .+', '', regex=True)"
      ]
    },
    {
      "cell_type": "code",
      "execution_count": null,
      "id": "b2c4cdae",
      "metadata": {
        "id": "b2c4cdae"
      },
      "outputs": [],
      "source": [
        "comment = pd.Series(['Sally and Tim came to dinner. A nice couple.'])\n",
        "comment.str.count('.')"
      ]
    },
    {
      "cell_type": "code",
      "execution_count": null,
      "id": "0b15e5f9",
      "metadata": {
        "id": "0b15e5f9"
      },
      "outputs": [],
      "source": [
        "comment.str.count('\\.')"
      ]
    }
  ],
  "metadata": {
    "kernelspec": {
      "display_name": "Python 3 (ipykernel)",
      "language": "python",
      "name": "python3"
    },
    "language_info": {
      "codemirror_mode": {
        "name": "ipython",
        "version": 3
      },
      "file_extension": ".py",
      "mimetype": "text/x-python",
      "name": "python",
      "nbconvert_exporter": "python",
      "pygments_lexer": "ipython3",
      "version": "3.10.9"
    },
    "colab": {
      "provenance": [],
      "include_colab_link": true
    }
  },
  "nbformat": 4,
  "nbformat_minor": 5
}