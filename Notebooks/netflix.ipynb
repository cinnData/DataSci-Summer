{
  "nbformat": 4,
  "nbformat_minor": 0,
  "metadata": {
    "colab": {
      "provenance": [],
      "authorship_tag": "ABX9TyMRT6X4u+mzI/E6SWudl9JE",
      "include_colab_link": true
    },
    "kernelspec": {
      "name": "python3",
      "display_name": "Python 3"
    },
    "language_info": {
      "name": "python"
    }
  },
  "cells": [
    {
      "cell_type": "markdown",
      "metadata": {
        "id": "view-in-github",
        "colab_type": "text"
      },
      "source": [
        "<a href=\"https://colab.research.google.com/github/cinnData/DataSci-Summer/blob/main/Notebooks/netflix.ipynb\" target=\"_parent\"><img src=\"https://colab.research.google.com/assets/colab-badge.svg\" alt=\"Open In Colab\"/></a>"
      ]
    },
    {
      "cell_type": "markdown",
      "source": [
        "# [DS-14] Example - Netflix data"
      ],
      "metadata": {
        "id": "20rhIQwEQtm3"
      }
    },
    {
      "cell_type": "markdown",
      "source": [
        "### Capturing the source code"
      ],
      "metadata": {
        "id": "bGpXy2opQ9a4"
      }
    },
    {
      "cell_type": "code",
      "source": [
        "import requests"
      ],
      "metadata": {
        "id": "4QItUXOcRGb0"
      },
      "execution_count": null,
      "outputs": []
    },
    {
      "cell_type": "code",
      "source": [
        "html_str = requests.get('https://jobs.lever.co/netflix').text"
      ],
      "metadata": {
        "id": "CMpeLB5SRKME"
      },
      "execution_count": null,
      "outputs": []
    },
    {
      "cell_type": "markdown",
      "source": [
        "### Parsing the source code"
      ],
      "metadata": {
        "id": "V2FwjoorRPiu"
      }
    },
    {
      "cell_type": "code",
      "source": [
        "from bs4 import BeautifulSoup"
      ],
      "metadata": {
        "id": "EQzWXuXtSXKY"
      },
      "execution_count": null,
      "outputs": []
    },
    {
      "cell_type": "code",
      "source": [
        "soup = BeautifulSoup(html_str, 'html.parser')"
      ],
      "metadata": {
        "id": "E9z0EvOKSaTe"
      },
      "execution_count": null,
      "outputs": []
    },
    {
      "cell_type": "markdown",
      "source": [
        "### Job titles"
      ],
      "metadata": {
        "id": "fhIHHGN0Sb1w"
      }
    },
    {
      "cell_type": "code",
      "source": [
        "job = soup.find_all('h5', {'data-qa': 'posting-name'})"
      ],
      "metadata": {
        "id": "2duEjJX_Skuc"
      },
      "execution_count": null,
      "outputs": []
    },
    {
      "cell_type": "code",
      "source": [
        "len(job)"
      ],
      "metadata": {
        "id": "kNrSeUYkSqUA"
      },
      "execution_count": null,
      "outputs": []
    },
    {
      "cell_type": "code",
      "source": [
        "job[:5]"
      ],
      "metadata": {
        "id": "yYRGN7W_Sty9"
      },
      "execution_count": null,
      "outputs": []
    },
    {
      "cell_type": "code",
      "source": [
        "job[-5:]"
      ],
      "metadata": {
        "id": "cWudCEcWSwyW"
      },
      "execution_count": null,
      "outputs": []
    },
    {
      "cell_type": "code",
      "source": [
        "job = [j.string for j in job]"
      ],
      "metadata": {
        "id": "YVUgM3ZES1D5"
      },
      "execution_count": null,
      "outputs": []
    },
    {
      "cell_type": "code",
      "source": [
        "job[:5]"
      ],
      "metadata": {
        "id": "h9NJ-BxsUjd2"
      },
      "execution_count": null,
      "outputs": []
    },
    {
      "cell_type": "markdown",
      "source": [
        "### Workplace types"
      ],
      "metadata": {
        "id": "YxyDDLACqfM-"
      }
    },
    {
      "cell_type": "code",
      "source": [
        "worktype = soup.find_all('span', 'display-inline-block small-category-label workplaceTypes')\n",
        "worktype = [w.string for w in worktype]\n",
        "worktype[:5]"
      ],
      "metadata": {
        "id": "1u_Aqw1hqeqy"
      },
      "execution_count": null,
      "outputs": []
    },
    {
      "cell_type": "code",
      "source": [
        "worktype = [w.replace('\\xa0—\\xa0', '') for w in worktype]\n",
        "worktype[:5]"
      ],
      "metadata": {
        "id": "-bquzT0EqeRp"
      },
      "execution_count": null,
      "outputs": []
    },
    {
      "cell_type": "markdown",
      "source": [
        "### Job locations"
      ],
      "metadata": {
        "id": "7zwd_0aNUlTA"
      }
    },
    {
      "cell_type": "code",
      "source": [
        "location = soup.find_all('span', 'sort-by-location posting-category small-category-label location')\n",
        "location = [l.string for l in location]\n",
        "location[:5]"
      ],
      "metadata": {
        "id": "dB7oh0R4VAEU"
      },
      "execution_count": null,
      "outputs": []
    },
    {
      "cell_type": "markdown",
      "source": [
        "### Links"
      ],
      "metadata": {
        "id": "71GpdMylVE8C"
      }
    },
    {
      "cell_type": "code",
      "source": [
        "link = soup.find_all('a', 'posting-title')\n",
        "link = [l['href'] for l in link]\n",
        "link[:5]"
      ],
      "metadata": {
        "id": "qBhp3F17X512"
      },
      "execution_count": null,
      "outputs": []
    },
    {
      "cell_type": "markdown",
      "source": [
        "### Packing"
      ],
      "metadata": {
        "id": "iYxJlUUXYDNk"
      }
    },
    {
      "cell_type": "code",
      "source": [
        "import pandas as pd"
      ],
      "metadata": {
        "id": "tw2L3DSdssSs"
      },
      "execution_count": null,
      "outputs": []
    },
    {
      "cell_type": "code",
      "source": [
        "df = pd.DataFrame({'job': job, 'worktype': worktype, 'location': location, 'link': link})\n",
        "df.info()"
      ],
      "metadata": {
        "id": "sGuHAL5R0OGJ"
      },
      "execution_count": null,
      "outputs": []
    },
    {
      "cell_type": "code",
      "source": [
        "df.head()"
      ],
      "metadata": {
        "id": "9LAewKta0Qjh"
      },
      "execution_count": null,
      "outputs": []
    },
    {
      "cell_type": "markdown",
      "source": [
        "### Exporting the data to a CSV file (edit path)"
      ],
      "metadata": {
        "id": "VJhmznLu0TrZ"
      }
    },
    {
      "cell_type": "code",
      "source": [
        "df.to_csv('netflix.csv', index=False)"
      ],
      "metadata": {
        "id": "IoP2mczH0cbZ"
      },
      "execution_count": null,
      "outputs": []
    }
  ]
}