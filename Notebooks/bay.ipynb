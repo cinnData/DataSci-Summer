{
  "nbformat": 4,
  "nbformat_minor": 0,
  "metadata": {
    "colab": {
      "provenance": [],
      "include_colab_link": true
    },
    "kernelspec": {
      "name": "python3",
      "display_name": "Python 3"
    },
    "language_info": {
      "name": "python"
    }
  },
  "cells": [
    {
      "cell_type": "markdown",
      "metadata": {
        "id": "view-in-github",
        "colab_type": "text"
      },
      "source": [
        "<a href=\"https://colab.research.google.com/github/cinnData/DataSci-Summer/blob/main/Notebooks/bay.ipynb\" target=\"_parent\"><img src=\"https://colab.research.google.com/assets/colab-badge.svg\" alt=\"Open In Colab\"/></a>"
      ]
    },
    {
      "cell_type": "markdown",
      "source": [
        "# [DS-11] Example - Bay Wheels data"
      ],
      "metadata": {
        "id": "uLRmXc_rtEQD"
      }
    },
    {
      "cell_type": "markdown",
      "source": [
        "## Importing the data"
      ],
      "metadata": {
        "id": "v_we1DcYtkkP"
      }
    },
    {
      "cell_type": "code",
      "source": [
        "import pandas as pd"
      ],
      "metadata": {
        "id": "3UwVIcZrtpoO"
      },
      "execution_count": null,
      "outputs": []
    },
    {
      "cell_type": "code",
      "source": [
        "path = 'https://raw.githubusercontent.com/cinnData/DataSci-Summer/main/Data/'"
      ],
      "metadata": {
        "id": "lksk2muGtrwl"
      },
      "execution_count": null,
      "outputs": []
    },
    {
      "cell_type": "code",
      "source": [
        "rides1 = pd.read_csv(path + 'bay_rides-1.csv.zip')\n",
        "rides2 = pd.read_csv(path + 'bay_rides-2.csv.zip')\n",
        "rides3 = pd.read_csv(path + 'bay_rides-3.csv.zip')\n",
        "rides4 = pd.read_csv(path + 'bay_rides-4.csv.zip')\n",
        "rides5 = pd.read_csv(path + 'bay_rides-5.csv.zip')"
      ],
      "metadata": {
        "id": "0yCpeZmVtwa-"
      },
      "execution_count": null,
      "outputs": []
    },
    {
      "cell_type": "code",
      "source": [
        "rides = pd.concat([rides1, rides2, rides3, rides4, rides5])"
      ],
      "metadata": {
        "id": "4sLQxPRlt1w7"
      },
      "execution_count": null,
      "outputs": []
    },
    {
      "cell_type": "markdown",
      "source": [
        "## Exploring the data"
      ],
      "metadata": {
        "id": "sE8I00m0t4EB"
      }
    },
    {
      "cell_type": "code",
      "source": [
        "rides.info()"
      ],
      "metadata": {
        "id": "7cvN2yELt-Mg"
      },
      "execution_count": null,
      "outputs": []
    },
    {
      "cell_type": "code",
      "source": [
        "rides.head()"
      ],
      "metadata": {
        "id": "F3GET3S-t_4F"
      },
      "execution_count": null,
      "outputs": []
    },
    {
      "cell_type": "markdown",
      "source": [
        "## Q1. Add a column with the hour"
      ],
      "metadata": {
        "id": "2XtHYgR7uD62"
      }
    },
    {
      "cell_type": "code",
      "source": [
        "rides['hour'] = rides['start_time'].str[:-6] + ':00:00'\n",
        "rides.head()"
      ],
      "metadata": {
        "id": "S5-uyp_rue2m"
      },
      "execution_count": null,
      "outputs": []
    },
    {
      "cell_type": "code",
      "source": [
        "rides['hour'] = rides['hour'].astype('datetime64[ns]')\n",
        "rides.info()"
      ],
      "metadata": {
        "id": "HdWy2_Q4xIFw"
      },
      "execution_count": null,
      "outputs": []
    },
    {
      "cell_type": "markdown",
      "source": [
        "## Q2. Aggregate to hourly data"
      ],
      "metadata": {
        "id": "K6BU9BhAxUQ7"
      }
    },
    {
      "cell_type": "code",
      "source": [
        "rides['casual'] = (rides['user_type'] == 'casual')\n",
        "rides['member'] = (rides['user_type'] == 'member')"
      ],
      "metadata": {
        "id": "4j8EAIpJxw7z"
      },
      "execution_count": null,
      "outputs": []
    },
    {
      "cell_type": "code",
      "source": [
        "df = rides[['hour', 'casual', 'member']].groupby(by='hour').sum()\n",
        "df.head()"
      ],
      "metadata": {
        "id": "4B4fYTEuzP8l"
      },
      "execution_count": null,
      "outputs": []
    },
    {
      "cell_type": "code",
      "source": [
        "df.index"
      ],
      "metadata": {
        "id": "FaGfZP6izc_N"
      },
      "execution_count": null,
      "outputs": []
    },
    {
      "cell_type": "markdown",
      "source": [
        "## Q3. Time trend"
      ],
      "metadata": {
        "id": "PHE7rkyEzoEb"
      }
    },
    {
      "cell_type": "code",
      "source": [
        "df.index.name = None"
      ],
      "metadata": {
        "id": "-u7Trh_NKuBB"
      },
      "execution_count": null,
      "outputs": []
    },
    {
      "cell_type": "code",
      "source": [
        "df['total'] = df['member'] + df['casual']"
      ],
      "metadata": {
        "id": "v3LRG2ZBK4px"
      },
      "execution_count": null,
      "outputs": []
    },
    {
      "cell_type": "code",
      "source": [
        "df['total'].plot(figsize=(8,5), title='Figure 1. Hourly total demand', color='black', linewidth=1);"
      ],
      "metadata": {
        "id": "8xNy84rGK67n"
      },
      "execution_count": null,
      "outputs": []
    },
    {
      "cell_type": "code",
      "source": [
        "df['total'].resample('D').mean().plot(figsize=(8,5), title='Figure 2. Daily total demand',\n",
        "\tcolor='black', linewidth=1);"
      ],
      "metadata": {
        "id": "YS61GSxwK-LU"
      },
      "execution_count": null,
      "outputs": []
    },
    {
      "cell_type": "code",
      "source": [
        "df['total'].resample('W').mean().plot(figsize=(8,5), title='Figure 3. Weekly total demand',\n",
        "\tcolor='black', linewidth=1);"
      ],
      "metadata": {
        "id": "86kSYIb7LIL6"
      },
      "execution_count": null,
      "outputs": []
    },
    {
      "cell_type": "code",
      "source": [
        "df['total'].resample('M').mean().plot(figsize=(8,5), title='Figure 4. Monthly total demand',\n",
        "\tcolor='black', linewidth=1);"
      ],
      "metadata": {
        "id": "myls4D_YLW8Z"
      },
      "execution_count": null,
      "outputs": []
    },
    {
      "cell_type": "code",
      "source": [
        "df['casual'].resample('M').mean().plot(figsize=(8,5), title=\"Figure 5. Casuals' monthly total demand\",\n",
        "\tcolor='black', linewidth=1);"
      ],
      "metadata": {
        "id": "kt1YWR75LjPc"
      },
      "execution_count": null,
      "outputs": []
    },
    {
      "cell_type": "code",
      "source": [
        "df['member'].resample('M').mean().plot(figsize=(8,5), title=\"Figure 6. Members' monthly total demand\",\n",
        "\tcolor='black', linewidth=1);"
      ],
      "metadata": {
        "id": "Gml8OJbFLtVy"
      },
      "execution_count": null,
      "outputs": []
    },
    {
      "cell_type": "markdown",
      "source": [
        "## Q4. Intraday variation"
      ],
      "metadata": {
        "id": "ZMnJVfyNL3e4"
      }
    },
    {
      "cell_type": "code",
      "source": [
        "df['hour'] = df.index.hour\n",
        "df.head()"
      ],
      "metadata": {
        "id": "MBOFTABTM20l"
      },
      "execution_count": null,
      "outputs": []
    },
    {
      "cell_type": "code",
      "source": [
        "df[['casual', 'hour']].groupby('hour').mean().round(1)"
      ],
      "metadata": {
        "id": "c3WvXMVpNHAS"
      },
      "execution_count": null,
      "outputs": []
    },
    {
      "cell_type": "code",
      "source": [
        "df[['casual', 'hour']].groupby('hour').mean().plot.bar(figsize=(7,5),\n",
        "\ttitle=\"Figure 7. Intraday variation of casuals' average demand\", color='gray', legend=False);"
      ],
      "metadata": {
        "id": "jjkRspdsNUIu"
      },
      "execution_count": null,
      "outputs": []
    },
    {
      "cell_type": "code",
      "source": [
        "df[['member', 'hour']].groupby('hour').mean().plot.bar(figsize=(7,5),\n",
        "\ttitle=\"Figure 8. Intraday variation of members' average demand\", color='gray', legend=False);"
      ],
      "metadata": {
        "id": "7z7SdetXNaQq"
      },
      "execution_count": null,
      "outputs": []
    },
    {
      "cell_type": "code",
      "source": [
        "df[['casual', 'member', 'hour']].groupby('hour').mean().plot.bar(figsize=(7,5),\n",
        "\ttitle='Figure 9. Intraday variation of average demand', color=['0.4', '0.7'], stacked=True);"
      ],
      "metadata": {
        "id": "lF06Q_xTNkAH"
      },
      "execution_count": null,
      "outputs": []
    },
    {
      "cell_type": "markdown",
      "source": [
        "## Q5. Intraweek variation"
      ],
      "metadata": {
        "id": "hfscrKqaN2nf"
      }
    },
    {
      "cell_type": "code",
      "source": [
        "df['weekday'] = df.index.weekday"
      ],
      "metadata": {
        "id": "EuFu8VEtPKKT"
      },
      "execution_count": null,
      "outputs": []
    },
    {
      "cell_type": "code",
      "source": [
        "df[['casual', 'member', 'weekday']].groupby('weekday').mean().plot.bar(figsize=(7,5),\n",
        "\ttitle= 'Figure 10. Intraweek variation of total demand', color=['0.4', '0.7'], stacked=True);"
      ],
      "metadata": {
        "id": "ouz_7zcYPZkk"
      },
      "execution_count": null,
      "outputs": []
    },
    {
      "cell_type": "markdown",
      "source": [
        "## Q6. Monthly seasonality"
      ],
      "metadata": {
        "id": "PGf_0opUPdEY"
      }
    },
    {
      "cell_type": "code",
      "source": [
        "df['month'] = df.index.month\n",
        "df[['casual', 'member', 'month']].groupby('month').mean().round(1)"
      ],
      "metadata": {
        "id": "y0r8uBSrRHry"
      },
      "execution_count": null,
      "outputs": []
    },
    {
      "cell_type": "code",
      "source": [
        "df[['total', 'month']].groupby('month').mean().plot(figsize=(8,5),\n",
        "    title='Figure 11. Monthly seasonality', color='black', linewidth=1, legend=False);"
      ],
      "metadata": {
        "id": "H-nvQvMERL3i"
      },
      "execution_count": null,
      "outputs": []
    }
  ]
}