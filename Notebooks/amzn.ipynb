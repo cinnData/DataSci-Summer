{
  "cells": [
    {
      "cell_type": "markdown",
      "metadata": {
        "id": "view-in-github",
        "colab_type": "text"
      },
      "source": [
        "<a href=\"https://colab.research.google.com/github/cinnData/DataSci-Summer/blob/main/Notebooks/amzn.ipynb\" target=\"_parent\"><img src=\"https://colab.research.google.com/assets/colab-badge.svg\" alt=\"Open In Colab\"/></a>"
      ]
    },
    {
      "cell_type": "markdown",
      "id": "5fd4583f",
      "metadata": {
        "id": "5fd4583f"
      },
      "source": [
        "# [DS-09] Example - Amazon jobs"
      ]
    },
    {
      "cell_type": "markdown",
      "id": "e43c6c0f",
      "metadata": {
        "id": "e43c6c0f"
      },
      "source": [
        "### Importing the data"
      ]
    },
    {
      "cell_type": "code",
      "execution_count": null,
      "id": "f395f8a3",
      "metadata": {
        "id": "f395f8a3"
      },
      "outputs": [],
      "source": [
        "import pandas as pd\n",
        "path = 'https://raw.githubusercontent.com/mikecinnamon/DataSci/main/Data/'\n",
        "filename = path + 'amzn.csv.zip'\n",
        "df = pd.read_csv(filename, index_col=0)"
      ]
    },
    {
      "cell_type": "markdown",
      "source": [
        "### Exploring the data"
      ],
      "metadata": {
        "id": "H8f74IImkbvz"
      },
      "id": "H8f74IImkbvz"
    },
    {
      "cell_type": "code",
      "execution_count": null,
      "id": "f09b6bfb",
      "metadata": {
        "id": "f09b6bfb"
      },
      "outputs": [],
      "source": [
        "df.info()"
      ]
    },
    {
      "cell_type": "code",
      "execution_count": null,
      "id": "43cc3292",
      "metadata": {
        "id": "43cc3292"
      },
      "outputs": [],
      "source": [
        "df.head()"
      ]
    },
    {
      "cell_type": "markdown",
      "id": "74f65d82",
      "metadata": {
        "id": "74f65d82"
      },
      "source": [
        "### Q1. Count and drop duplicates"
      ]
    },
    {
      "cell_type": "code",
      "execution_count": null,
      "id": "249de2ca",
      "metadata": {
        "id": "249de2ca"
      },
      "outputs": [],
      "source": [
        "df.duplicated().sum()"
      ]
    },
    {
      "cell_type": "code",
      "execution_count": null,
      "id": "ac37ce7d",
      "metadata": {
        "id": "ac37ce7d"
      },
      "outputs": [],
      "source": [
        "df.index.duplicated().sum()"
      ]
    },
    {
      "cell_type": "code",
      "execution_count": null,
      "id": "97ccb803",
      "metadata": {
        "id": "97ccb803"
      },
      "outputs": [],
      "source": [
        "df = df.drop_duplicates()\n",
        "df.shape"
      ]
    },
    {
      "cell_type": "markdown",
      "id": "86725aa6",
      "metadata": {
        "id": "86725aa6"
      },
      "source": [
        "### Q2. Top-ten locations for software developers at Amazon"
      ]
    },
    {
      "cell_type": "code",
      "execution_count": null,
      "id": "2be0ed9e",
      "metadata": {
        "id": "2be0ed9e"
      },
      "outputs": [],
      "source": [
        "df['location'].value_counts().shape"
      ]
    },
    {
      "cell_type": "code",
      "execution_count": null,
      "id": "8256be1f",
      "metadata": {
        "id": "8256be1f"
      },
      "outputs": [],
      "source": [
        "df['location'].value_counts().head(10)"
      ]
    },
    {
      "cell_type": "markdown",
      "source": [
        "### Q3. Positions in India"
      ],
      "metadata": {
        "id": "4kApKCtlk-ZM"
      },
      "id": "4kApKCtlk-ZM"
    },
    {
      "cell_type": "code",
      "execution_count": null,
      "id": "e1bbca73",
      "metadata": {
        "id": "e1bbca73"
      },
      "outputs": [],
      "source": [
        "df['location'][df['location'].str[:2] == 'IN'].value_counts()"
      ]
    },
    {
      "cell_type": "code",
      "execution_count": null,
      "id": "eb3503e2",
      "metadata": {
        "id": "eb3503e2"
      },
      "outputs": [],
      "source": [
        "df['location'][df['location'].str.contains('^IN', regex=True)].value_counts()"
      ]
    },
    {
      "cell_type": "markdown",
      "id": "bb2f6aa1",
      "metadata": {
        "id": "bb2f6aa1"
      },
      "source": [
        "### Q4. Programming languages in the basic qualifications field"
      ]
    },
    {
      "cell_type": "code",
      "execution_count": null,
      "id": "acb5cbbb",
      "metadata": {
        "id": "acb5cbbb"
      },
      "outputs": [],
      "source": [
        "df['basic_qualifications'].str.contains('c#', case=False).mean().round(3)"
      ]
    },
    {
      "cell_type": "code",
      "execution_count": null,
      "id": "98f1c315",
      "metadata": {
        "id": "98f1c315"
      },
      "outputs": [],
      "source": [
        "df['basic_qualifications'].str.contains('c+', case=False, regex=False).mean().round(3)"
      ]
    },
    {
      "cell_type": "code",
      "execution_count": null,
      "id": "3f48f500",
      "metadata": {
        "id": "3f48f500"
      },
      "outputs": [],
      "source": [
        "df['basic_qualifications'].str.contains('c\\+', case=False).mean().round(3)"
      ]
    },
    {
      "cell_type": "code",
      "execution_count": null,
      "id": "5d99ed8d",
      "metadata": {
        "id": "5d99ed8d"
      },
      "outputs": [],
      "source": [
        "df['basic_qualifications'].str.contains('c+', case=False).mean().round(3)"
      ]
    }
  ],
  "metadata": {
    "kernelspec": {
      "display_name": "Python 3 (ipykernel)",
      "language": "python",
      "name": "python3"
    },
    "language_info": {
      "codemirror_mode": {
        "name": "ipython",
        "version": 3
      },
      "file_extension": ".py",
      "mimetype": "text/x-python",
      "name": "python",
      "nbconvert_exporter": "python",
      "pygments_lexer": "ipython3",
      "version": "3.10.9"
    },
    "colab": {
      "provenance": [],
      "include_colab_link": true
    }
  },
  "nbformat": 4,
  "nbformat_minor": 5
}