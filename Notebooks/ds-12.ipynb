{
  "cells": [
    {
      "cell_type": "markdown",
      "metadata": {
        "id": "view-in-github",
        "colab_type": "text"
      },
      "source": [
        "<a href=\"https://colab.research.google.com/github/cinnData/DataSci-Summer/blob/main/Notebooks/ds-12.ipynb\" target=\"_parent\"><img src=\"https://colab.research.google.com/assets/colab-badge.svg\" alt=\"Open In Colab\"/></a>"
      ]
    },
    {
      "cell_type": "markdown",
      "id": "5dc288da",
      "metadata": {
        "id": "5dc288da"
      },
      "source": [
        "# [DS-12] HTML data in Python"
      ]
    },
    {
      "cell_type": "markdown",
      "id": "58575d70",
      "metadata": {
        "id": "58575d70"
      },
      "source": [
        "### What is Beautiful Soup?"
      ]
    },
    {
      "cell_type": "code",
      "source": [
        "from bs4 import BeautifulSoup"
      ],
      "metadata": {
        "id": "h4huA4z0HD4A"
      },
      "id": "h4huA4z0HD4A",
      "execution_count": null,
      "outputs": []
    },
    {
      "cell_type": "code",
      "execution_count": null,
      "id": "85421d2f",
      "metadata": {
        "id": "85421d2f"
      },
      "outputs": [],
      "source": [
        "html_str = '''<html>\n",
        "<head>\n",
        "  <title>Data Viz</title>\n",
        "</head>\n",
        "<body>\n",
        "  <div class=\"course\">Data Visualization</div>\n",
        "  <div class=\"program\">MBA full-time</div>\n",
        "  <a class=\"professor\" href=\"faculty-research/faculty/miguel-angel-canela\">Miguel Ángel Canela</a>\n",
        "</body>\n",
        "</html>'''"
      ]
    },
    {
      "cell_type": "code",
      "execution_count": null,
      "id": "756db5bc",
      "metadata": {
        "id": "756db5bc"
      },
      "outputs": [],
      "source": [
        "html_str"
      ]
    },
    {
      "cell_type": "markdown",
      "id": "d2c3aff8",
      "metadata": {
        "id": "d2c3aff8"
      },
      "source": [
        "### Parsing HTML code"
      ]
    },
    {
      "cell_type": "code",
      "execution_count": null,
      "id": "303c4d2c",
      "metadata": {
        "id": "303c4d2c"
      },
      "outputs": [],
      "source": [
        "soup = BeautifulSoup(html_str, 'html.parser')"
      ]
    },
    {
      "cell_type": "code",
      "execution_count": null,
      "id": "826493ea",
      "metadata": {
        "id": "826493ea"
      },
      "outputs": [],
      "source": [
        "type(soup)"
      ]
    },
    {
      "cell_type": "code",
      "execution_count": null,
      "id": "a71e5500",
      "metadata": {
        "id": "a71e5500"
      },
      "outputs": [],
      "source": [
        "soup"
      ]
    },
    {
      "cell_type": "markdown",
      "id": "1bc508f5",
      "metadata": {
        "id": "1bc508f5"
      },
      "source": [
        "### The tree structure"
      ]
    },
    {
      "cell_type": "code",
      "execution_count": null,
      "id": "91076e48",
      "metadata": {
        "id": "91076e48"
      },
      "outputs": [],
      "source": [
        "soup.head"
      ]
    },
    {
      "cell_type": "code",
      "execution_count": null,
      "id": "d6d03363",
      "metadata": {
        "id": "d6d03363"
      },
      "outputs": [],
      "source": [
        "type(soup.head)"
      ]
    },
    {
      "cell_type": "code",
      "execution_count": null,
      "id": "e46e6ede",
      "metadata": {
        "id": "e46e6ede"
      },
      "outputs": [],
      "source": [
        "soup.head.title"
      ]
    },
    {
      "cell_type": "code",
      "execution_count": null,
      "id": "679af8d7",
      "metadata": {
        "id": "679af8d7"
      },
      "outputs": [],
      "source": [
        "soup.head.div"
      ]
    },
    {
      "cell_type": "code",
      "execution_count": null,
      "id": "bb5b54b2",
      "metadata": {
        "id": "bb5b54b2"
      },
      "outputs": [],
      "source": [
        "soup.div"
      ]
    },
    {
      "cell_type": "markdown",
      "source": [
        "### The method .find()"
      ],
      "metadata": {
        "id": "LB4WJ1b0IONI"
      },
      "id": "LB4WJ1b0IONI"
    },
    {
      "cell_type": "code",
      "execution_count": null,
      "id": "d98cc46d",
      "metadata": {
        "id": "d98cc46d"
      },
      "outputs": [],
      "source": [
        "soup.find('div')"
      ]
    },
    {
      "cell_type": "code",
      "execution_count": null,
      "id": "d9ebe18b",
      "metadata": {
        "id": "d9ebe18b"
      },
      "outputs": [],
      "source": [
        "soup.find('div', attrs={'class': 'course'})"
      ]
    },
    {
      "cell_type": "code",
      "execution_count": null,
      "id": "c8fcc5f5",
      "metadata": {
        "id": "c8fcc5f5"
      },
      "outputs": [],
      "source": [
        "soup.find('div', 'program')"
      ]
    },
    {
      "cell_type": "code",
      "execution_count": null,
      "id": "49fd9894",
      "metadata": {
        "id": "49fd9894"
      },
      "outputs": [],
      "source": [
        "soup.find('head').find('title')"
      ]
    },
    {
      "cell_type": "markdown",
      "id": "4b98db2d",
      "metadata": {
        "id": "4b98db2d"
      },
      "source": [
        "### The method .find_all()"
      ]
    },
    {
      "cell_type": "code",
      "execution_count": null,
      "id": "299a2809",
      "metadata": {
        "id": "299a2809"
      },
      "outputs": [],
      "source": [
        "soup.find_all('div')"
      ]
    },
    {
      "cell_type": "code",
      "execution_count": null,
      "id": "fbb977de",
      "metadata": {
        "id": "fbb977de"
      },
      "outputs": [],
      "source": [
        "soup.find('head').find_all('div')"
      ]
    },
    {
      "cell_type": "code",
      "execution_count": null,
      "id": "0b4facc4",
      "metadata": {
        "id": "0b4facc4"
      },
      "outputs": [],
      "source": [
        "soup.find_all('div', 'course')"
      ]
    },
    {
      "cell_type": "code",
      "execution_count": null,
      "id": "7c3ba1ee",
      "metadata": {
        "id": "7c3ba1ee"
      },
      "outputs": [],
      "source": [
        "soup.find_all('div', 'course')[0]"
      ]
    },
    {
      "cell_type": "markdown",
      "source": [
        "### Extracting information from the tags"
      ],
      "metadata": {
        "id": "fkByks2fM9xR"
      },
      "id": "fkByks2fM9xR"
    },
    {
      "cell_type": "code",
      "execution_count": null,
      "id": "827c9b99",
      "metadata": {
        "id": "827c9b99"
      },
      "outputs": [],
      "source": [
        "soup.find('a').string"
      ]
    },
    {
      "cell_type": "code",
      "execution_count": null,
      "id": "b2c4cdae",
      "metadata": {
        "id": "b2c4cdae"
      },
      "outputs": [],
      "source": [
        "soup.find_all('div').string"
      ]
    },
    {
      "cell_type": "code",
      "execution_count": null,
      "id": "0b15e5f9",
      "metadata": {
        "id": "0b15e5f9"
      },
      "outputs": [],
      "source": [
        "[t.string for t in soup.find_all('div')]"
      ]
    },
    {
      "cell_type": "code",
      "source": [
        "soup.find('a')['href']"
      ],
      "metadata": {
        "id": "dvR0i1uRNoSg"
      },
      "id": "dvR0i1uRNoSg",
      "execution_count": null,
      "outputs": []
    },
    {
      "cell_type": "markdown",
      "source": [
        "### Finding the elements containing a string"
      ],
      "metadata": {
        "id": "KKJ1sQoZN8gN"
      },
      "id": "KKJ1sQoZN8gN"
    },
    {
      "cell_type": "code",
      "source": [
        "soup.find_all('div', string='Data Visualization')"
      ],
      "metadata": {
        "id": "KFh1n5zfOIKp"
      },
      "id": "KFh1n5zfOIKp",
      "execution_count": null,
      "outputs": []
    }
  ],
  "metadata": {
    "kernelspec": {
      "display_name": "Python 3 (ipykernel)",
      "language": "python",
      "name": "python3"
    },
    "language_info": {
      "codemirror_mode": {
        "name": "ipython",
        "version": 3
      },
      "file_extension": ".py",
      "mimetype": "text/x-python",
      "name": "python",
      "nbconvert_exporter": "python",
      "pygments_lexer": "ipython3",
      "version": "3.10.9"
    },
    "colab": {
      "provenance": [],
      "include_colab_link": true
    }
  },
  "nbformat": 4,
  "nbformat_minor": 5
}