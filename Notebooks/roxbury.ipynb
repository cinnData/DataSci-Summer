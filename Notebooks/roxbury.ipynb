{
  "cells": [
    {
      "cell_type": "markdown",
      "metadata": {
        "id": "view-in-github",
        "colab_type": "text"
      },
      "source": [
        "<a href=\"https://colab.research.google.com/github/cinnData/DataSci-Summer/blob/main/Notebooks/roxbury.ipynb\" target=\"_parent\"><img src=\"https://colab.research.google.com/assets/colab-badge.svg\" alt=\"Open In Colab\"/></a>"
      ]
    },
    {
      "cell_type": "markdown",
      "id": "81f8b4b7",
      "metadata": {
        "id": "81f8b4b7"
      },
      "source": [
        "# [DS-05] Example - Assessing home values in West Roxbury"
      ]
    },
    {
      "cell_type": "markdown",
      "id": "5fac2463",
      "metadata": {
        "id": "5fac2463"
      },
      "source": [
        "### Importing the data"
      ]
    },
    {
      "cell_type": "code",
      "execution_count": null,
      "id": "bdd8de30",
      "metadata": {
        "id": "bdd8de30"
      },
      "outputs": [],
      "source": [
        "import pandas as pd"
      ]
    },
    {
      "cell_type": "code",
      "execution_count": null,
      "id": "53fdfb33",
      "metadata": {
        "id": "53fdfb33"
      },
      "outputs": [],
      "source": [
        "path = 'https://raw.githubusercontent.com/cinnData/DataSci-Summer/main/Data/'"
      ]
    },
    {
      "cell_type": "code",
      "source": [
        "filename = path + 'roxbury.csv'"
      ],
      "metadata": {
        "id": "z9olS8TDaWzW"
      },
      "id": "z9olS8TDaWzW",
      "execution_count": null,
      "outputs": []
    },
    {
      "cell_type": "code",
      "source": [
        "df = pd.read_csv(filename)"
      ],
      "metadata": {
        "id": "ty8kjs0WabCP"
      },
      "id": "ty8kjs0WabCP",
      "execution_count": null,
      "outputs": []
    },
    {
      "cell_type": "markdown",
      "source": [
        "### Exploring the data"
      ],
      "metadata": {
        "id": "9gVDZcZnaeuX"
      },
      "id": "9gVDZcZnaeuX"
    },
    {
      "cell_type": "code",
      "execution_count": null,
      "id": "0eafe6bf",
      "metadata": {
        "id": "0eafe6bf"
      },
      "outputs": [],
      "source": [
        "df.shape"
      ]
    },
    {
      "cell_type": "code",
      "execution_count": null,
      "id": "113e2299",
      "metadata": {
        "id": "113e2299"
      },
      "outputs": [],
      "source": [
        "df.index"
      ]
    },
    {
      "cell_type": "code",
      "execution_count": null,
      "id": "45edf351",
      "metadata": {
        "id": "45edf351"
      },
      "outputs": [],
      "source": [
        "df.columns"
      ]
    },
    {
      "cell_type": "code",
      "execution_count": null,
      "id": "addd7b04",
      "metadata": {
        "id": "addd7b04"
      },
      "outputs": [],
      "source": [
        "df.head()"
      ]
    },
    {
      "cell_type": "code",
      "execution_count": null,
      "id": "03345889",
      "metadata": {
        "id": "03345889"
      },
      "outputs": [],
      "source": [
        "df.tail()"
      ]
    },
    {
      "cell_type": "code",
      "execution_count": null,
      "id": "56149e44",
      "metadata": {
        "id": "56149e44"
      },
      "outputs": [],
      "source": [
        "df.info()"
      ]
    },
    {
      "cell_type": "code",
      "execution_count": null,
      "id": "3cf4cbd3",
      "metadata": {
        "id": "3cf4cbd3"
      },
      "outputs": [],
      "source": [
        "df.describe()"
      ]
    },
    {
      "cell_type": "markdown",
      "id": "b79eda78",
      "metadata": {
        "id": "b79eda78"
      },
      "source": [
        "### Q1. Distribution of the home assessed value"
      ]
    },
    {
      "cell_type": "code",
      "execution_count": null,
      "id": "b7251892",
      "metadata": {
        "id": "b7251892"
      },
      "outputs": [],
      "source": [
        "df['value'].plot.hist(figsize=(7,5), title='Figure 1. Distribution of the home assessed value',\n",
        "    color='gray', edgecolor='white', xlabel='Home value (thousand USD)');"
      ]
    },
    {
      "cell_type": "markdown",
      "id": "356d5d1c",
      "metadata": {
        "id": "356d5d1c"
      },
      "source": [
        "### Q2. Association between value and size measures"
      ]
    },
    {
      "cell_type": "code",
      "execution_count": null,
      "id": "799bcd77",
      "metadata": {
        "id": "799bcd77"
      },
      "outputs": [],
      "source": [
        "df.plot.scatter(x='living_area', y='value', figsize=(5,5),\n",
        "    title='Figure 2. Home value vs living area', color='gray', s=2,\n",
        "    xlabel='Living area (sq ft)', ylabel='Home value (thousand USD)');"
      ]
    },
    {
      "cell_type": "code",
      "execution_count": null,
      "id": "3620d756",
      "metadata": {
        "id": "3620d756"
      },
      "outputs": [],
      "source": [
        "df[['value', 'lot_sqft', 'gross_area', 'living_area']].corr()"
      ]
    },
    {
      "cell_type": "code",
      "execution_count": null,
      "id": "42b46469",
      "metadata": {
        "id": "42b46469"
      },
      "outputs": [],
      "source": [
        "df[['value', 'lot_sqft', 'gross_area', 'living_area']].corr().round(2)"
      ]
    },
    {
      "cell_type": "markdown",
      "id": "dff625ee",
      "metadata": {
        "id": "dff625ee"
      },
      "source": [
        "### Q3. Trimming the data"
      ]
    },
    {
      "cell_type": "code",
      "execution_count": null,
      "id": "6e718a71",
      "metadata": {
        "id": "6e718a71"
      },
      "outputs": [],
      "source": [
        "df1 = df[df['living_area'].between(1000, 2000)]"
      ]
    },
    {
      "cell_type": "code",
      "execution_count": null,
      "id": "1b4cd298",
      "metadata": {
        "id": "1b4cd298"
      },
      "outputs": [],
      "source": [
        "df1.plot.scatter(x='living_area', y='value', figsize=(5,5),\n",
        "    title='Figure 3. Home value vs living area (trimmed data)', color='gray', s=2,\n",
        "    xlabel='Living area (sq ft)', ylabel='Home value (thousand USD)');"
      ]
    },
    {
      "cell_type": "code",
      "execution_count": null,
      "id": "52c72469",
      "metadata": {
        "id": "52c72469"
      },
      "outputs": [],
      "source": [
        "df1[['value', 'lot_sqft', 'gross_area', 'living_area']].corr().round(2)d"
      ]
    }
  ],
  "metadata": {
    "kernelspec": {
      "display_name": "Python 3 (ipykernel)",
      "language": "python",
      "name": "python3"
    },
    "language_info": {
      "codemirror_mode": {
        "name": "ipython",
        "version": 3
      },
      "file_extension": ".py",
      "mimetype": "text/x-python",
      "name": "python",
      "nbconvert_exporter": "python",
      "pygments_lexer": "ipython3",
      "version": "3.10.9"
    },
    "colab": {
      "provenance": [],
      "include_colab_link": true
    }
  },
  "nbformat": 4,
  "nbformat_minor": 5
}