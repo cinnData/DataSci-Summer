{
  "cells": [
    {
      "cell_type": "markdown",
      "metadata": {
        "id": "view-in-github",
        "colab_type": "text"
      },
      "source": [
        "<a href=\"https://colab.research.google.com/github/cinnData/DataSci-Summer/blob/main/Notebooks/airbnb.ipynb\" target=\"_parent\"><img src=\"https://colab.research.google.com/assets/colab-badge.svg\" alt=\"Open In Colab\"/></a>"
      ]
    },
    {
      "cell_type": "markdown",
      "id": "66eee247",
      "metadata": {
        "id": "66eee247"
      },
      "source": [
        "# [DS-07] Example - Barcelona Airbnb data"
      ]
    },
    {
      "cell_type": "markdown",
      "id": "852d0cf2",
      "metadata": {
        "id": "852d0cf2"
      },
      "source": [
        "### Importing the data"
      ]
    },
    {
      "cell_type": "code",
      "execution_count": null,
      "id": "5e9515a0",
      "metadata": {
        "id": "5e9515a0"
      },
      "outputs": [],
      "source": [
        "import pandas as pd"
      ]
    },
    {
      "cell_type": "code",
      "source": [
        "path = 'https://raw.githubusercontent.com/cinndata/DataSci-Summer/main/Data/'"
      ],
      "metadata": {
        "id": "7oCKMQqFc_PO"
      },
      "id": "7oCKMQqFc_PO",
      "execution_count": null,
      "outputs": []
    },
    {
      "cell_type": "code",
      "execution_count": null,
      "id": "0a1eb3b2",
      "metadata": {
        "id": "0a1eb3b2"
      },
      "outputs": [],
      "source": [
        "df = pd.read_csv(path + 'airbnb.csv', index_col=0)"
      ]
    },
    {
      "cell_type": "markdown",
      "source": [
        "### Exploring the data"
      ],
      "metadata": {
        "id": "aJu3TgWpdYAv"
      },
      "id": "aJu3TgWpdYAv"
    },
    {
      "cell_type": "code",
      "execution_count": null,
      "id": "610c79b8",
      "metadata": {
        "id": "610c79b8"
      },
      "outputs": [],
      "source": [
        "df.info()"
      ]
    },
    {
      "cell_type": "code",
      "execution_count": null,
      "id": "1ac61452",
      "metadata": {
        "id": "1ac61452"
      },
      "outputs": [],
      "source": [
        "df.head()"
      ]
    },
    {
      "cell_type": "markdown",
      "id": "6f34d22e",
      "metadata": {
        "id": "6f34d22e"
      },
      "source": [
        "### Q1. Counting duplicates"
      ]
    },
    {
      "cell_type": "code",
      "execution_count": null,
      "id": "abf9cf93",
      "metadata": {
        "id": "abf9cf93"
      },
      "outputs": [],
      "source": [
        "df.index.duplicated().sum()"
      ]
    },
    {
      "cell_type": "code",
      "execution_count": null,
      "id": "4053c77d",
      "metadata": {
        "id": "4053c77d"
      },
      "outputs": [],
      "source": [
        "df.duplicated().sum()"
      ]
    },
    {
      "cell_type": "code",
      "source": [
        "df = df.drop_duplicates()"
      ],
      "metadata": {
        "id": "rCUueQEXdlTx"
      },
      "id": "rCUueQEXdlTx",
      "execution_count": null,
      "outputs": []
    },
    {
      "cell_type": "code",
      "execution_count": null,
      "id": "015d391a",
      "metadata": {
        "id": "015d391a"
      },
      "outputs": [],
      "source": [
        "df.shape"
      ]
    },
    {
      "cell_type": "markdown",
      "id": "2dab2a9a",
      "metadata": {
        "id": "2dab2a9a"
      },
      "source": [
        "### Q2. Proportion of listings with missing ratings"
      ]
    },
    {
      "cell_type": "code",
      "execution_count": null,
      "id": "b611df4f",
      "metadata": {
        "id": "b611df4f"
      },
      "outputs": [],
      "source": [
        "df.isna().sum()"
      ]
    },
    {
      "cell_type": "code",
      "execution_count": null,
      "id": "d684667f",
      "metadata": {
        "id": "d684667f"
      },
      "outputs": [],
      "source": [
        "df['review_scores_rating'].isna().mean().round(3)"
      ]
    },
    {
      "cell_type": "markdown",
      "id": "ddb26d15",
      "metadata": {
        "id": "ddb26d15"
      },
      "source": [
        "### Q3. Distribution of the price"
      ]
    },
    {
      "cell_type": "code",
      "execution_count": null,
      "id": "88cb67e5",
      "metadata": {
        "id": "88cb67e5"
      },
      "outputs": [],
      "source": [
        "df['price'].plot.hist(figsize=(7,5), title='Figure 1. Distribution of the price',\n",
        "    color='gray', edgecolor='white', xlabel='Price per night (euros)');"
      ]
    },
    {
      "cell_type": "code",
      "execution_count": null,
      "id": "97f73fa7",
      "metadata": {
        "id": "97f73fa7"
      },
      "outputs": [],
      "source": [
        "df['price'].describe()"
      ]
    },
    {
      "cell_type": "code",
      "source": [
        "filter = df['price'].between(25,175)"
      ],
      "metadata": {
        "id": "5eRyYhKkeV_1"
      },
      "id": "5eRyYhKkeV_1",
      "execution_count": null,
      "outputs": []
    },
    {
      "cell_type": "code",
      "execution_count": null,
      "id": "17f614b1",
      "metadata": {
        "id": "17f614b1"
      },
      "outputs": [],
      "source": [
        "df['price'][filter].plot.hist(figsize=(7,5),\n",
        "    title='Figure 2. Distribution of the price (trimmed data)',\n",
        "    color='gray', edgecolor='white', bins=30, xlabel='Price per night (euros)');"
      ]
    },
    {
      "cell_type": "markdown",
      "id": "5afd6114",
      "metadata": {
        "id": "5afd6114"
      },
      "source": [
        "### Q4. Average price per room type"
      ]
    },
    {
      "cell_type": "code",
      "execution_count": null,
      "id": "d5fe9cd7",
      "metadata": {
        "id": "d5fe9cd7"
      },
      "outputs": [],
      "source": [
        "pd.pivot_table(df, values='price', index='room_type', aggfunc='mean').round()"
      ]
    },
    {
      "cell_type": "code",
      "execution_count": null,
      "id": "211eb36f",
      "metadata": {
        "id": "211eb36f"
      },
      "outputs": [],
      "source": [
        "pd.pivot_table(df, values='price', index='room_type', aggfunc='median')"
      ]
    },
    {
      "cell_type": "markdown",
      "id": "affcbd38",
      "metadata": {
        "id": "affcbd38"
      },
      "source": [
        "### Q5. Top-10 neighbourhoods"
      ]
    },
    {
      "cell_type": "code",
      "execution_count": null,
      "id": "fb29802c",
      "metadata": {
        "id": "fb29802c"
      },
      "outputs": [],
      "source": [
        "df['neighbourhood'].value_counts().head(10)"
      ]
    },
    {
      "cell_type": "code",
      "execution_count": null,
      "id": "76395b18",
      "metadata": {
        "id": "76395b18"
      },
      "outputs": [],
      "source": [
        "df.groupby(by='neighbourhood')['price'].agg(['count', 'median']).sort_values(by='count',\n",
        "  ascending=False).head(10)"
      ]
    }
  ],
  "metadata": {
    "kernelspec": {
      "display_name": "Python 3 (ipykernel)",
      "language": "python",
      "name": "python3"
    },
    "language_info": {
      "codemirror_mode": {
        "name": "ipython",
        "version": 3
      },
      "file_extension": ".py",
      "mimetype": "text/x-python",
      "name": "python",
      "nbconvert_exporter": "python",
      "pygments_lexer": "ipython3",
      "version": "3.10.9"
    },
    "colab": {
      "provenance": [],
      "include_colab_link": true
    }
  },
  "nbformat": 4,
  "nbformat_minor": 5
}